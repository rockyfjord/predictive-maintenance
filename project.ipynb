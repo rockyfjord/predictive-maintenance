{
 "cells": [
  {
   "cell_type": "markdown",
   "metadata": {
    "tags": []
   },
   "source": [
    "<a href=\"https://archive.ics.uci.edu/ml/datasets/AI4I+2020+Predictive+Maintenance+Dataset\"><center><img style=\"height: 70%;\" src=\"https://www.pcimag.com/ext/resources/PCI/2019/May/cyient/pci0519-Cyient-904060684-900.jpg?1557154608\" /></center></a>"
   ]
  },
  {
   "cell_type": "code",
   "execution_count": 35,
   "metadata": {},
   "outputs": [
    {
     "data": {
      "text/html": [
       "<div>\n",
       "<style scoped>\n",
       "    .dataframe tbody tr th:only-of-type {\n",
       "        vertical-align: middle;\n",
       "    }\n",
       "\n",
       "    .dataframe tbody tr th {\n",
       "        vertical-align: top;\n",
       "    }\n",
       "\n",
       "    .dataframe thead th {\n",
       "        text-align: right;\n",
       "    }\n",
       "</style>\n",
       "<table border=\"1\" class=\"dataframe\">\n",
       "  <thead>\n",
       "    <tr style=\"text-align: right;\">\n",
       "      <th></th>\n",
       "      <th>Type</th>\n",
       "      <th>Air temperature [K]</th>\n",
       "      <th>Process temperature [K]</th>\n",
       "      <th>Rotational speed [rpm]</th>\n",
       "      <th>Torque [Nm]</th>\n",
       "      <th>Tool wear [min]</th>\n",
       "      <th>Machine failure</th>\n",
       "    </tr>\n",
       "  </thead>\n",
       "  <tbody>\n",
       "    <tr>\n",
       "      <th>0</th>\n",
       "      <td>M</td>\n",
       "      <td>298.1</td>\n",
       "      <td>308.6</td>\n",
       "      <td>1551</td>\n",
       "      <td>42.8</td>\n",
       "      <td>0</td>\n",
       "      <td>0</td>\n",
       "    </tr>\n",
       "    <tr>\n",
       "      <th>1</th>\n",
       "      <td>L</td>\n",
       "      <td>298.2</td>\n",
       "      <td>308.7</td>\n",
       "      <td>1408</td>\n",
       "      <td>46.3</td>\n",
       "      <td>3</td>\n",
       "      <td>0</td>\n",
       "    </tr>\n",
       "    <tr>\n",
       "      <th>2</th>\n",
       "      <td>L</td>\n",
       "      <td>298.1</td>\n",
       "      <td>308.5</td>\n",
       "      <td>1498</td>\n",
       "      <td>49.4</td>\n",
       "      <td>5</td>\n",
       "      <td>0</td>\n",
       "    </tr>\n",
       "    <tr>\n",
       "      <th>3</th>\n",
       "      <td>L</td>\n",
       "      <td>298.2</td>\n",
       "      <td>308.6</td>\n",
       "      <td>1433</td>\n",
       "      <td>39.5</td>\n",
       "      <td>7</td>\n",
       "      <td>0</td>\n",
       "    </tr>\n",
       "    <tr>\n",
       "      <th>4</th>\n",
       "      <td>L</td>\n",
       "      <td>298.2</td>\n",
       "      <td>308.7</td>\n",
       "      <td>1408</td>\n",
       "      <td>40.0</td>\n",
       "      <td>9</td>\n",
       "      <td>0</td>\n",
       "    </tr>\n",
       "    <tr>\n",
       "      <th>...</th>\n",
       "      <td>...</td>\n",
       "      <td>...</td>\n",
       "      <td>...</td>\n",
       "      <td>...</td>\n",
       "      <td>...</td>\n",
       "      <td>...</td>\n",
       "      <td>...</td>\n",
       "    </tr>\n",
       "    <tr>\n",
       "      <th>9995</th>\n",
       "      <td>M</td>\n",
       "      <td>298.8</td>\n",
       "      <td>308.4</td>\n",
       "      <td>1604</td>\n",
       "      <td>29.5</td>\n",
       "      <td>14</td>\n",
       "      <td>0</td>\n",
       "    </tr>\n",
       "    <tr>\n",
       "      <th>9996</th>\n",
       "      <td>H</td>\n",
       "      <td>298.9</td>\n",
       "      <td>308.4</td>\n",
       "      <td>1632</td>\n",
       "      <td>31.8</td>\n",
       "      <td>17</td>\n",
       "      <td>0</td>\n",
       "    </tr>\n",
       "    <tr>\n",
       "      <th>9997</th>\n",
       "      <td>M</td>\n",
       "      <td>299.0</td>\n",
       "      <td>308.6</td>\n",
       "      <td>1645</td>\n",
       "      <td>33.4</td>\n",
       "      <td>22</td>\n",
       "      <td>0</td>\n",
       "    </tr>\n",
       "    <tr>\n",
       "      <th>9998</th>\n",
       "      <td>H</td>\n",
       "      <td>299.0</td>\n",
       "      <td>308.7</td>\n",
       "      <td>1408</td>\n",
       "      <td>48.5</td>\n",
       "      <td>25</td>\n",
       "      <td>0</td>\n",
       "    </tr>\n",
       "    <tr>\n",
       "      <th>9999</th>\n",
       "      <td>M</td>\n",
       "      <td>299.0</td>\n",
       "      <td>308.7</td>\n",
       "      <td>1500</td>\n",
       "      <td>40.2</td>\n",
       "      <td>30</td>\n",
       "      <td>0</td>\n",
       "    </tr>\n",
       "  </tbody>\n",
       "</table>\n",
       "<p>10000 rows × 7 columns</p>\n",
       "</div>"
      ],
      "text/plain": [
       "     Type  Air temperature [K]  Process temperature [K]  \\\n",
       "0       M                298.1                    308.6   \n",
       "1       L                298.2                    308.7   \n",
       "2       L                298.1                    308.5   \n",
       "3       L                298.2                    308.6   \n",
       "4       L                298.2                    308.7   \n",
       "...   ...                  ...                      ...   \n",
       "9995    M                298.8                    308.4   \n",
       "9996    H                298.9                    308.4   \n",
       "9997    M                299.0                    308.6   \n",
       "9998    H                299.0                    308.7   \n",
       "9999    M                299.0                    308.7   \n",
       "\n",
       "      Rotational speed [rpm]  Torque [Nm]  Tool wear [min]  Machine failure  \n",
       "0                       1551         42.8                0                0  \n",
       "1                       1408         46.3                3                0  \n",
       "2                       1498         49.4                5                0  \n",
       "3                       1433         39.5                7                0  \n",
       "4                       1408         40.0                9                0  \n",
       "...                      ...          ...              ...              ...  \n",
       "9995                    1604         29.5               14                0  \n",
       "9996                    1632         31.8               17                0  \n",
       "9997                    1645         33.4               22                0  \n",
       "9998                    1408         48.5               25                0  \n",
       "9999                    1500         40.2               30                0  \n",
       "\n",
       "[10000 rows x 7 columns]"
      ]
     },
     "execution_count": 35,
     "metadata": {},
     "output_type": "execute_result"
    }
   ],
   "source": [
    "import pandas as pd\n",
    "import numpy as np\n",
    "import matplotlib.pyplot as plt\n",
    "import seaborn as sns\n",
    "df = pd.read_csv(\"maintenance.csv\")\n",
    "df.drop(['UDI', 'Product ID', 'TWF', 'HDF', 'PWF', 'OSF', 'RNF'], axis=1, inplace=True)\n",
    "df"
   ]
  },
  {
   "cell_type": "code",
   "execution_count": 36,
   "metadata": {},
   "outputs": [
    {
     "data": {
      "text/html": [
       "<div>\n",
       "<style scoped>\n",
       "    .dataframe tbody tr th:only-of-type {\n",
       "        vertical-align: middle;\n",
       "    }\n",
       "\n",
       "    .dataframe tbody tr th {\n",
       "        vertical-align: top;\n",
       "    }\n",
       "\n",
       "    .dataframe thead th {\n",
       "        text-align: right;\n",
       "    }\n",
       "</style>\n",
       "<table border=\"1\" class=\"dataframe\">\n",
       "  <thead>\n",
       "    <tr style=\"text-align: right;\">\n",
       "      <th></th>\n",
       "      <th>Type</th>\n",
       "      <th>Air temperature [K]</th>\n",
       "      <th>Process temperature [K]</th>\n",
       "      <th>Rotational speed [rpm]</th>\n",
       "      <th>Torque [Nm]</th>\n",
       "      <th>Tool wear [min]</th>\n",
       "      <th>Machine failure</th>\n",
       "    </tr>\n",
       "  </thead>\n",
       "  <tbody>\n",
       "    <tr>\n",
       "      <th>0</th>\n",
       "      <td>2</td>\n",
       "      <td>298.1</td>\n",
       "      <td>308.6</td>\n",
       "      <td>1551</td>\n",
       "      <td>42.8</td>\n",
       "      <td>0</td>\n",
       "      <td>0</td>\n",
       "    </tr>\n",
       "    <tr>\n",
       "      <th>1</th>\n",
       "      <td>1</td>\n",
       "      <td>298.2</td>\n",
       "      <td>308.7</td>\n",
       "      <td>1408</td>\n",
       "      <td>46.3</td>\n",
       "      <td>3</td>\n",
       "      <td>0</td>\n",
       "    </tr>\n",
       "    <tr>\n",
       "      <th>2</th>\n",
       "      <td>1</td>\n",
       "      <td>298.1</td>\n",
       "      <td>308.5</td>\n",
       "      <td>1498</td>\n",
       "      <td>49.4</td>\n",
       "      <td>5</td>\n",
       "      <td>0</td>\n",
       "    </tr>\n",
       "    <tr>\n",
       "      <th>3</th>\n",
       "      <td>1</td>\n",
       "      <td>298.2</td>\n",
       "      <td>308.6</td>\n",
       "      <td>1433</td>\n",
       "      <td>39.5</td>\n",
       "      <td>7</td>\n",
       "      <td>0</td>\n",
       "    </tr>\n",
       "    <tr>\n",
       "      <th>4</th>\n",
       "      <td>1</td>\n",
       "      <td>298.2</td>\n",
       "      <td>308.7</td>\n",
       "      <td>1408</td>\n",
       "      <td>40.0</td>\n",
       "      <td>9</td>\n",
       "      <td>0</td>\n",
       "    </tr>\n",
       "    <tr>\n",
       "      <th>...</th>\n",
       "      <td>...</td>\n",
       "      <td>...</td>\n",
       "      <td>...</td>\n",
       "      <td>...</td>\n",
       "      <td>...</td>\n",
       "      <td>...</td>\n",
       "      <td>...</td>\n",
       "    </tr>\n",
       "    <tr>\n",
       "      <th>9995</th>\n",
       "      <td>2</td>\n",
       "      <td>298.8</td>\n",
       "      <td>308.4</td>\n",
       "      <td>1604</td>\n",
       "      <td>29.5</td>\n",
       "      <td>14</td>\n",
       "      <td>0</td>\n",
       "    </tr>\n",
       "    <tr>\n",
       "      <th>9996</th>\n",
       "      <td>0</td>\n",
       "      <td>298.9</td>\n",
       "      <td>308.4</td>\n",
       "      <td>1632</td>\n",
       "      <td>31.8</td>\n",
       "      <td>17</td>\n",
       "      <td>0</td>\n",
       "    </tr>\n",
       "    <tr>\n",
       "      <th>9997</th>\n",
       "      <td>2</td>\n",
       "      <td>299.0</td>\n",
       "      <td>308.6</td>\n",
       "      <td>1645</td>\n",
       "      <td>33.4</td>\n",
       "      <td>22</td>\n",
       "      <td>0</td>\n",
       "    </tr>\n",
       "    <tr>\n",
       "      <th>9998</th>\n",
       "      <td>0</td>\n",
       "      <td>299.0</td>\n",
       "      <td>308.7</td>\n",
       "      <td>1408</td>\n",
       "      <td>48.5</td>\n",
       "      <td>25</td>\n",
       "      <td>0</td>\n",
       "    </tr>\n",
       "    <tr>\n",
       "      <th>9999</th>\n",
       "      <td>2</td>\n",
       "      <td>299.0</td>\n",
       "      <td>308.7</td>\n",
       "      <td>1500</td>\n",
       "      <td>40.2</td>\n",
       "      <td>30</td>\n",
       "      <td>0</td>\n",
       "    </tr>\n",
       "  </tbody>\n",
       "</table>\n",
       "<p>10000 rows × 7 columns</p>\n",
       "</div>"
      ],
      "text/plain": [
       "      Type  Air temperature [K]  Process temperature [K]  \\\n",
       "0        2                298.1                    308.6   \n",
       "1        1                298.2                    308.7   \n",
       "2        1                298.1                    308.5   \n",
       "3        1                298.2                    308.6   \n",
       "4        1                298.2                    308.7   \n",
       "...    ...                  ...                      ...   \n",
       "9995     2                298.8                    308.4   \n",
       "9996     0                298.9                    308.4   \n",
       "9997     2                299.0                    308.6   \n",
       "9998     0                299.0                    308.7   \n",
       "9999     2                299.0                    308.7   \n",
       "\n",
       "      Rotational speed [rpm]  Torque [Nm]  Tool wear [min]  Machine failure  \n",
       "0                       1551         42.8                0                0  \n",
       "1                       1408         46.3                3                0  \n",
       "2                       1498         49.4                5                0  \n",
       "3                       1433         39.5                7                0  \n",
       "4                       1408         40.0                9                0  \n",
       "...                      ...          ...              ...              ...  \n",
       "9995                    1604         29.5               14                0  \n",
       "9996                    1632         31.8               17                0  \n",
       "9997                    1645         33.4               22                0  \n",
       "9998                    1408         48.5               25                0  \n",
       "9999                    1500         40.2               30                0  \n",
       "\n",
       "[10000 rows x 7 columns]"
      ]
     },
     "execution_count": 36,
     "metadata": {},
     "output_type": "execute_result"
    }
   ],
   "source": [
    "from sklearn.preprocessing import LabelEncoder\n",
    "labelencoder_X_1 = LabelEncoder()\n",
    "df.iloc[:, 0] = labelencoder_X_1.fit_transform(df.iloc[:, 0])\n",
    "#df = pd.get_dummies(df, columns=[\"Type\"], drop_first=True)\n",
    "df"
   ]
  },
  {
   "cell_type": "code",
   "execution_count": 37,
   "metadata": {},
   "outputs": [
    {
     "data": {
      "text/plain": [
       "<AxesSubplot:>"
      ]
     },
     "execution_count": 37,
     "metadata": {},
     "output_type": "execute_result"
    },
    {
     "data": {
      "image/png": "[encoded data removed]",
      "text/plain": [
       "<Figure size 1080x864 with 2 Axes>"
      ]
     },
     "metadata": {
      "needs_background": "light"
     },
     "output_type": "display_data"
    }
   ],
   "source": [
    "from matplotlib.colors import LinearSegmentedColormap\n",
    "\n",
    "corr = df.iloc[:, 1:7].corr()\n",
    "\n",
    "cmap = LinearSegmentedColormap.from_list(\n",
    "    name='test', \n",
    "    colors=['red','white','green'])\n",
    "\n",
    "fig, ax = plt.subplots(figsize=(15,12)) \n",
    "\n",
    "sns.heatmap(corr, \n",
    "        xticklabels=corr.columns,\n",
    "        yticklabels=corr.columns, \n",
    "           cmap=cmap, annot=True,\n",
    "           ax=ax)"
   ]
  },
  {
   "cell_type": "markdown",
   "metadata": {},
   "source": [
    "It appears that Air and process temperatures are collinerar. Also Rotational speed and Torque.\n",
    "Since torque is a good indicator of failure, it's possible that only keeping this column or only\n",
    "keeping Torque and Air temperature will improve predictive models."
   ]
  },
  {
   "cell_type": "code",
   "execution_count": 38,
   "metadata": {},
   "outputs": [],
   "source": [
    "df2 = df.drop(['Process temperature [K]', 'Rotational speed [rpm]'], axis=1)"
   ]
  },
  {
   "cell_type": "code",
   "execution_count": 39,
   "metadata": {},
   "outputs": [
    {
     "data": {
      "text/plain": [
       "<AxesSubplot:>"
      ]
     },
     "execution_count": 39,
     "metadata": {},
     "output_type": "execute_result"
    },
    {
     "data": {
      "image/png": "[encoded data removed]",
      "text/plain": [
       "<Figure size 1080x864 with 2 Axes>"
      ]
     },
     "metadata": {
      "needs_background": "light"
     },
     "output_type": "display_data"
    }
   ],
   "source": [
    "corr = df2.iloc[:, 0:4].corr()\n",
    "\n",
    "cmap = LinearSegmentedColormap.from_list(\n",
    "    name='test', \n",
    "    colors=['white','green'])\n",
    "\n",
    "fig, ax = plt.subplots(figsize=(15,12)) \n",
    "\n",
    "sns.heatmap(corr, \n",
    "        xticklabels=corr.columns,\n",
    "        yticklabels=corr.columns, \n",
    "           cmap=cmap, annot=True,\n",
    "           ax=ax)"
   ]
  },
  {
   "cell_type": "code",
   "execution_count": 40,
   "metadata": {},
   "outputs": [
    {
     "data": {
      "text/html": [
       "<div>\n",
       "<style scoped>\n",
       "    .dataframe tbody tr th:only-of-type {\n",
       "        vertical-align: middle;\n",
       "    }\n",
       "\n",
       "    .dataframe tbody tr th {\n",
       "        vertical-align: top;\n",
       "    }\n",
       "\n",
       "    .dataframe thead th {\n",
       "        text-align: right;\n",
       "    }\n",
       "</style>\n",
       "<table border=\"1\" class=\"dataframe\">\n",
       "  <thead>\n",
       "    <tr style=\"text-align: right;\">\n",
       "      <th></th>\n",
       "      <th>Type</th>\n",
       "      <th>Air temperature [K]</th>\n",
       "      <th>Torque [Nm]</th>\n",
       "      <th>Tool wear [min]</th>\n",
       "      <th>Machine failure</th>\n",
       "    </tr>\n",
       "  </thead>\n",
       "  <tbody>\n",
       "    <tr>\n",
       "      <th>0</th>\n",
       "      <td>2</td>\n",
       "      <td>298.1</td>\n",
       "      <td>42.8</td>\n",
       "      <td>0</td>\n",
       "      <td>0</td>\n",
       "    </tr>\n",
       "    <tr>\n",
       "      <th>1</th>\n",
       "      <td>1</td>\n",
       "      <td>298.2</td>\n",
       "      <td>46.3</td>\n",
       "      <td>3</td>\n",
       "      <td>0</td>\n",
       "    </tr>\n",
       "    <tr>\n",
       "      <th>2</th>\n",
       "      <td>1</td>\n",
       "      <td>298.1</td>\n",
       "      <td>49.4</td>\n",
       "      <td>5</td>\n",
       "      <td>0</td>\n",
       "    </tr>\n",
       "    <tr>\n",
       "      <th>3</th>\n",
       "      <td>1</td>\n",
       "      <td>298.2</td>\n",
       "      <td>39.5</td>\n",
       "      <td>7</td>\n",
       "      <td>0</td>\n",
       "    </tr>\n",
       "    <tr>\n",
       "      <th>4</th>\n",
       "      <td>1</td>\n",
       "      <td>298.2</td>\n",
       "      <td>40.0</td>\n",
       "      <td>9</td>\n",
       "      <td>0</td>\n",
       "    </tr>\n",
       "    <tr>\n",
       "      <th>...</th>\n",
       "      <td>...</td>\n",
       "      <td>...</td>\n",
       "      <td>...</td>\n",
       "      <td>...</td>\n",
       "      <td>...</td>\n",
       "    </tr>\n",
       "    <tr>\n",
       "      <th>9995</th>\n",
       "      <td>2</td>\n",
       "      <td>298.8</td>\n",
       "      <td>29.5</td>\n",
       "      <td>14</td>\n",
       "      <td>0</td>\n",
       "    </tr>\n",
       "    <tr>\n",
       "      <th>9996</th>\n",
       "      <td>0</td>\n",
       "      <td>298.9</td>\n",
       "      <td>31.8</td>\n",
       "      <td>17</td>\n",
       "      <td>0</td>\n",
       "    </tr>\n",
       "    <tr>\n",
       "      <th>9997</th>\n",
       "      <td>2</td>\n",
       "      <td>299.0</td>\n",
       "      <td>33.4</td>\n",
       "      <td>22</td>\n",
       "      <td>0</td>\n",
       "    </tr>\n",
       "    <tr>\n",
       "      <th>9998</th>\n",
       "      <td>0</td>\n",
       "      <td>299.0</td>\n",
       "      <td>48.5</td>\n",
       "      <td>25</td>\n",
       "      <td>0</td>\n",
       "    </tr>\n",
       "    <tr>\n",
       "      <th>9999</th>\n",
       "      <td>2</td>\n",
       "      <td>299.0</td>\n",
       "      <td>40.2</td>\n",
       "      <td>30</td>\n",
       "      <td>0</td>\n",
       "    </tr>\n",
       "  </tbody>\n",
       "</table>\n",
       "<p>10000 rows × 5 columns</p>\n",
       "</div>"
      ],
      "text/plain": [
       "      Type  Air temperature [K]  Torque [Nm]  Tool wear [min]  Machine failure\n",
       "0        2                298.1         42.8                0                0\n",
       "1        1                298.2         46.3                3                0\n",
       "2        1                298.1         49.4                5                0\n",
       "3        1                298.2         39.5                7                0\n",
       "4        1                298.2         40.0                9                0\n",
       "...    ...                  ...          ...              ...              ...\n",
       "9995     2                298.8         29.5               14                0\n",
       "9996     0                298.9         31.8               17                0\n",
       "9997     2                299.0         33.4               22                0\n",
       "9998     0                299.0         48.5               25                0\n",
       "9999     2                299.0         40.2               30                0\n",
       "\n",
       "[10000 rows x 5 columns]"
      ]
     },
     "execution_count": 40,
     "metadata": {},
     "output_type": "execute_result"
    }
   ],
   "source": [
    "df2"
   ]
  },
  {
   "cell_type": "code",
   "execution_count": 41,
   "metadata": {
    "tags": []
   },
   "outputs": [],
   "source": [
    "# Using df2 here gave a less accurate prediction.\n",
    "y = df['Machine failure'].values\n",
    "X = df.drop(['Machine failure'], axis=1).values"
   ]
  },
  {
   "cell_type": "code",
   "execution_count": 42,
   "metadata": {},
   "outputs": [
    {
     "name": "stdout",
     "output_type": "stream",
     "text": [
      "339\n"
     ]
    },
    {
     "data": {
      "text/plain": [
       "68"
      ]
     },
     "execution_count": 42,
     "metadata": {},
     "output_type": "execute_result"
    }
   ],
   "source": [
    "from sklearn.model_selection import train_test_split\n",
    "X_train, X_test, y_train, y_test = train_test_split(X, y, test_size=0.20, stratify=y)\n",
    "\n",
    "print(len(df.loc[df['Machine failure']==1,]))\n",
    "y_test.sum()"
   ]
  },
  {
   "cell_type": "code",
   "execution_count": 43,
   "metadata": {},
   "outputs": [],
   "source": [
    "from sklearn.linear_model import LogisticRegression\n",
    "clf = LogisticRegression(max_iter=10000).fit(X_train, y_train)"
   ]
  },
  {
   "cell_type": "code",
   "execution_count": 44,
   "metadata": {},
   "outputs": [],
   "source": [
    "y_predict_test = clf.predict(X_test)"
   ]
  },
  {
   "cell_type": "code",
   "execution_count": 45,
   "metadata": {
    "tags": []
   },
   "outputs": [
    {
     "data": {
      "image/png": "[encoded data removed]",
      "text/plain": [
       "<Figure size 432x288 with 2 Axes>"
      ]
     },
     "metadata": {
      "needs_background": "light"
     },
     "output_type": "display_data"
    },
    {
     "name": "stdout",
     "output_type": "stream",
     "text": [
      "              precision    recall  f1-score   support\n",
      "\n",
      "           0       0.97      0.99      0.98      1932\n",
      "           1       0.50      0.16      0.24        68\n",
      "\n",
      "    accuracy                           0.97      2000\n",
      "   macro avg       0.74      0.58      0.61      2000\n",
      "weighted avg       0.96      0.97      0.96      2000\n",
      "\n"
     ]
    }
   ],
   "source": [
    "from sklearn.metrics import confusion_matrix, classification_report\n",
    "\n",
    "cm = confusion_matrix(y_test, y_predict_test)\n",
    "sns.heatmap(cm, annot=True, fmt='d')\n",
    "plt.show()\n",
    "print(classification_report(y_test,y_predict_test))"
   ]
  },
  {
   "cell_type": "code",
   "execution_count": 46,
   "metadata": {
    "tags": []
   },
   "outputs": [],
   "source": [
    "# Using df2 here gave a less accurate prediction.\n",
    "from sklearn.ensemble import RandomForestClassifier\n",
    "clf = RandomForestClassifier().fit(X_train, y_train)"
   ]
  },
  {
   "cell_type": "code",
   "execution_count": 47,
   "metadata": {
    "tags": []
   },
   "outputs": [],
   "source": [
    "y_predict_test = clf.predict(X_test)"
   ]
  },
  {
   "cell_type": "code",
   "execution_count": 48,
   "metadata": {
    "tags": []
   },
   "outputs": [
    {
     "data": {
      "image/png": "[encoded data removed]",
      "text/plain": [
       "<Figure size 432x288 with 2 Axes>"
      ]
     },
     "metadata": {
      "needs_background": "light"
     },
     "output_type": "display_data"
    },
    {
     "name": "stdout",
     "output_type": "stream",
     "text": [
      "              precision    recall  f1-score   support\n",
      "\n",
      "           0       0.99      1.00      0.99      1932\n",
      "           1       0.92      0.65      0.76        68\n",
      "\n",
      "    accuracy                           0.99      2000\n",
      "   macro avg       0.95      0.82      0.88      2000\n",
      "weighted avg       0.99      0.99      0.98      2000\n",
      "\n"
     ]
    }
   ],
   "source": [
    "cm = confusion_matrix(y_test, y_predict_test)\n",
    "sns.heatmap(cm, annot=True, fmt='d')\n",
    "plt.show()\n",
    "print(classification_report(y_test,y_predict_test))"
   ]
  },
  {
   "cell_type": "code",
   "execution_count": 49,
   "metadata": {},
   "outputs": [
    {
     "name": "stdout",
     "output_type": "stream",
     "text": [
      "[name: \"/device:CPU:0\"\n",
      "device_type: \"CPU\"\n",
      "memory_limit: 268435456\n",
      "locality {\n",
      "}\n",
      "incarnation: 15669366317013021373\n",
      ", name: \"/device:GPU:0\"\n",
      "device_type: \"GPU\"\n",
      "memory_limit: 5593628672\n",
      "locality {\n",
      "  bus_id: 1\n",
      "  links {\n",
      "  }\n",
      "}\n",
      "incarnation: 16069033228832198087\n",
      "physical_device_desc: \"device: 0, name: GeForce GTX 1060 6GB, pci bus id: 0000:26:00.0, compute capability: 6.1\"\n",
      "]\n",
      "Num GPUs Available:  1\n"
     ]
    }
   ],
   "source": [
    "from tensorflow.python.client import device_lib\n",
    "import tensorflow as tf\n",
    "tf.debugging.set_log_device_placement(True)\n",
    "print(device_lib.list_local_devices())\n",
    "print(\"Num GPUs Available: \", len(tf.config.list_physical_devices('GPU')))"
   ]
  },
  {
   "cell_type": "code",
   "execution_count": 50,
   "metadata": {},
   "outputs": [
    {
     "data": {
      "text/plain": [
       "array([[-0.32837235, -0.45804248,  0.19562607, -0.7105189 ,  0.19997836,\n",
       "        -0.52524764],\n",
       "       [-0.32837235,  0.24219445,  1.0743507 , -0.50619614,  0.53163827,\n",
       "         1.51086151],\n",
       "       [-0.32837235,  0.19217752, -0.07475074, -0.90916602,  0.34068257,\n",
       "        -0.52524764],\n",
       "       ...,\n",
       "       [-1.99101716, -0.15794094, -0.54791015, -0.45511546,  0.04922386,\n",
       "         1.16628919],\n",
       "       [-0.32837235,  0.39224522,  0.60119128, -0.44943982,  0.76279518,\n",
       "        -0.39994861],\n",
       "       [ 1.33427246,  1.39258368,  1.54751011, -0.68214074,  0.26028017,\n",
       "         2.0903695 ]])"
      ]
     },
     "execution_count": 50,
     "metadata": {},
     "output_type": "execute_result"
    }
   ],
   "source": [
    "from sklearn.preprocessing import StandardScaler\n",
    "scaler = StandardScaler().fit(X_train)\n",
    "X_train_scaled = scaler.transform(X_train)\n",
    "X_test_scaled = scaler.transform(X_test)\n",
    "X_train_scaled"
   ]
  },
  {
   "cell_type": "code",
   "execution_count": 51,
   "metadata": {},
   "outputs": [],
   "source": [
    "import tensorflow as tf\n",
    "from tensorflow.python.keras import backend as K\n",
    "from keras import optimizers\n",
    "from keras import Model\n",
    "from keras.layers import Input, Dense\n",
    "from keras.models import load_model\n",
    "tf.debugging.set_log_device_placement(False)\n",
    "try:\n",
    "    model = load_model('./model.h5')\n",
    "\n",
    "#sess = tf.compat.v1.Session()\n",
    "#K.set_session(sess)\n",
    "\n",
    "except:\n",
    "    layer1 = Input(X_train.shape[1])\n",
    "    layer2 = Dense(6, activation='relu')(layer1)\n",
    "    layer3 = Dense(4, activation='relu')(layer2)\n",
    "    layer4 = Dense(4, activation='relu')(layer3)\n",
    "    output = Dense(1, activation='sigmoid')(layer4)\n",
    "\n",
    "    model = Model(inputs=layer1, outputs=output)\n",
    "    model.summary()\n",
    "\n",
    "\n",
    "    opt = tf.keras.optimizers.Adam(learning_rate=0.005, beta_1=0.9, beta_2=0.999, epsilon=1e-07, amsgrad=False,name='Adam')\n",
    "\n",
    "\n",
    "    model.compile(optimizer = opt, loss = 'binary_crossentropy', metrics = ['accuracy'])\n",
    "\n",
    "    model.fit(X_train_scaled, y_train, batch_size=10, epochs=200)\n",
    "    model.save('./model.h5')\n",
    "    dot_img_file = './model_1.png'\n",
    "    tf.keras.utils.plot_model(model, to_file=dot_img_file, show_shapes=True)"
   ]
  },
  {
   "cell_type": "code",
   "execution_count": 52,
   "metadata": {},
   "outputs": [
    {
     "data": {
      "image/png": "[encoded data removed]",
      "text/plain": [
       "<IPython.core.display.Image object>"
      ]
     },
     "execution_count": 52,
     "metadata": {},
     "output_type": "execute_result"
    }
   ],
   "source": [
    "dot_img_file = './model_1.png'\n",
    "tf.keras.utils.plot_model(model, to_file=dot_img_file, show_shapes=True)"
   ]
  },
  {
   "cell_type": "code",
   "execution_count": 53,
   "metadata": {},
   "outputs": [
    {
     "name": "stdout",
     "output_type": "stream",
     "text": [
      "66\n",
      "68\n"
     ]
    }
   ],
   "source": [
    "#y_predict_test = model.predict_classes(X_test)\n",
    "y_predict_test = (model.predict(X_test_scaled) > 0.5).astype(\"int32\")\n",
    "print(y_predict_test.sum())\n",
    "print(y_test.sum())"
   ]
  },
  {
   "cell_type": "code",
   "execution_count": 54,
   "metadata": {},
   "outputs": [
    {
     "name": "stdout",
     "output_type": "stream",
     "text": [
      "[1.0, 302.0, 310.5, 1263.0, 60.6, 90.0] => 1 (expected 1)\n",
      "[1.0, 300.8, 310.1, 1405.0, 61.2, 189.0] => 1 (expected 1)\n",
      "[1.0, 295.6, 306.1, 1372.0, 55.6, 215.0] => 1 (expected 1)\n",
      "[1.0, 300.5, 309.7, 1395.0, 61.0, 157.0] => 1 (expected 0)\n",
      "[1.0, 302.1, 310.7, 1359.0, 49.3, 41.0] => 1 (expected 1)\n",
      "[1.0, 300.6, 310.3, 1648.0, 30.5, 217.0] => 0 (expected 1)\n",
      "[1.0, 298.4, 308.3, 1433.0, 62.3, 20.0] => 1 (expected 1)\n",
      "[2.0, 300.4, 310.2, 1671.0, 30.5, 234.0] => 0 (expected 1)\n",
      "[1.0, 302.0, 311.2, 1270.0, 65.3, 182.0] => 1 (expected 1)\n",
      "[1.0, 299.1, 309.8, 1398.0, 55.4, 217.0] => 1 (expected 1)\n",
      "[1.0, 303.2, 311.4, 1238.0, 54.6, 226.0] => 1 (expected 1)\n",
      "[2.0, 301.6, 310.8, 1290.0, 65.3, 63.0] => 1 (expected 0)\n",
      "[1.0, 300.6, 309.4, 2496.0, 13.5, 111.0] => 1 (expected 0)\n",
      "[2.0, 303.4, 311.8, 1391.0, 42.7, 197.0] => 1 (expected 0)\n",
      "[1.0, 297.8, 308.9, 1871.0, 25.6, 200.0] => 0 (expected 1)\n",
      "[1.0, 303.5, 311.9, 1344.0, 49.3, 93.0] => 1 (expected 1)\n",
      "[1.0, 303.3, 311.6, 1301.0, 45.1, 219.0] => 1 (expected 1)\n",
      "[1.0, 303.4, 311.7, 1295.0, 51.3, 51.0] => 1 (expected 1)\n",
      "[1.0, 297.5, 308.3, 2564.0, 12.8, 127.0] => 1 (expected 1)\n",
      "[0.0, 302.1, 310.7, 1294.0, 62.4, 101.0] => 1 (expected 1)\n",
      "[1.0, 303.8, 313.1, 2497.0, 13.0, 5.0] => 0 (expected 1)\n",
      "[2.0, 303.2, 311.5, 1336.0, 58.2, 2.0] => 1 (expected 1)\n",
      "[1.0, 303.2, 311.4, 1349.0, 51.1, 9.0] => 1 (expected 1)\n",
      "[1.0, 301.4, 310.8, 1285.0, 62.6, 183.0] => 1 (expected 1)\n",
      "[1.0, 302.6, 311.0, 1284.0, 68.0, 114.0] => 1 (expected 1)\n",
      "[2.0, 298.4, 308.0, 1416.0, 38.2, 198.0] => 0 (expected 1)\n",
      "[2.0, 298.9, 308.2, 1372.0, 63.6, 30.0] => 1 (expected 1)\n",
      "[0.0, 302.8, 312.4, 1411.0, 53.8, 246.0] => 1 (expected 1)\n",
      "[2.0, 303.4, 311.7, 1353.0, 44.1, 192.0] => 1 (expected 1)\n",
      "[1.0, 302.4, 310.9, 1349.0, 46.1, 148.0] => 1 (expected 1)\n",
      "[1.0, 298.2, 308.1, 1379.0, 62.3, 149.0] => 1 (expected 0)\n",
      "[2.0, 299.3, 308.4, 1542.0, 37.5, 203.0] => 0 (expected 1)\n",
      "[1.0, 298.0, 308.5, 1429.0, 37.7, 220.0] => 0 (expected 1)\n",
      "[1.0, 301.7, 310.1, 2695.0, 12.6, 10.0] => 1 (expected 0)\n",
      "[2.0, 302.2, 310.1, 1368.0, 51.6, 12.0] => 1 (expected 1)\n",
      "[1.0, 297.2, 308.1, 1431.0, 49.7, 210.0] => 0 (expected 1)\n",
      "[1.0, 300.8, 312.4, 1465.0, 59.1, 91.0] => 1 (expected 1)\n",
      "[1.0, 302.4, 310.3, 1374.0, 51.2, 163.0] => 1 (expected 1)\n",
      "[2.0, 303.4, 312.6, 2706.0, 9.8, 65.0] => 1 (expected 1)\n",
      "[0.0, 303.6, 312.2, 1371.0, 54.6, 112.0] => 1 (expected 1)\n",
      "[1.0, 301.0, 311.6, 1352.0, 63.5, 143.0] => 1 (expected 0)\n",
      "[0.0, 303.7, 311.9, 1332.0, 52.7, 66.0] => 1 (expected 1)\n",
      "[1.0, 296.9, 307.5, 2721.0, 9.3, 18.0] => 1 (expected 1)\n",
      "[1.0, 301.7, 310.2, 1331.0, 61.2, 47.0] => 1 (expected 1)\n",
      "[1.0, 303.3, 311.3, 1350.0, 48.1, 32.0] => 1 (expected 1)\n",
      "[1.0, 297.1, 308.5, 1323.0, 44.4, 207.0] => 0 (expected 1)\n",
      "[2.0, 302.4, 310.1, 1379.0, 48.9, 107.0] => 1 (expected 1)\n",
      "[0.0, 302.0, 310.6, 1346.0, 54.7, 196.0] => 1 (expected 0)\n",
      "[1.0, 303.7, 312.3, 1375.0, 46.2, 98.0] => 1 (expected 0)\n",
      "[1.0, 303.6, 311.8, 1222.0, 66.8, 148.0] => 1 (expected 1)\n",
      "[1.0, 302.0, 310.8, 1383.0, 50.3, 231.0] => 1 (expected 1)\n",
      "[0.0, 300.4, 309.9, 2563.0, 12.8, 81.0] => 1 (expected 1)\n",
      "[1.0, 298.7, 309.8, 1354.0, 53.3, 212.0] => 1 (expected 1)\n",
      "[1.0, 301.8, 310.6, 2672.0, 11.8, 124.0] => 1 (expected 1)\n",
      "[1.0, 301.9, 310.5, 1340.0, 55.7, 204.0] => 1 (expected 1)\n",
      "[1.0, 299.1, 310.2, 1317.0, 54.8, 231.0] => 1 (expected 1)\n",
      "[1.0, 303.6, 312.0, 1391.0, 50.3, 101.0] => 1 (expected 0)\n",
      "[1.0, 299.2, 308.6, 1267.0, 68.2, 76.0] => 1 (expected 1)\n",
      "[1.0, 300.5, 311.2, 1270.0, 67.5, 208.0] => 1 (expected 1)\n",
      "[0.0, 300.5, 309.8, 1324.0, 72.8, 159.0] => 1 (expected 1)\n",
      "[2.0, 300.8, 309.7, 1258.0, 54.9, 168.0] => 1 (expected 0)\n",
      "[2.0, 302.4, 310.2, 1392.0, 55.8, 143.0] => 1 (expected 0)\n",
      "[1.0, 297.0, 307.8, 1385.0, 56.4, 202.0] => 1 (expected 1)\n",
      "[1.0, 297.7, 308.5, 1373.0, 56.7, 203.0] => 1 (expected 1)\n",
      "[1.0, 303.8, 313.1, 1256.0, 58.7, 213.0] => 1 (expected 1)\n",
      "[1.0, 300.7, 311.1, 2478.0, 13.4, 170.0] => 0 (expected 1)\n",
      "[2.0, 302.1, 310.1, 1379.0, 48.2, 166.0] => 1 (expected 1)\n",
      "[1.0, 302.0, 310.8, 1615.0, 29.0, 235.0] => 0 (expected 1)\n",
      "[1.0, 298.2, 307.9, 1313.0, 67.3, 67.0] => 1 (expected 1)\n",
      "[1.0, 297.8, 309.0, 1403.0, 64.2, 0.0] => 1 (expected 1)\n",
      "[0.0, 296.6, 307.7, 1386.0, 62.3, 100.0] => 0 (expected 1)\n",
      "[1.0, 298.7, 309.8, 1181.0, 65.9, 203.0] => 1 (expected 1)\n",
      "[1.0, 300.2, 311.0, 1255.0, 71.8, 149.0] => 1 (expected 1)\n",
      "[2.0, 297.3, 308.3, 1459.0, 59.6, 207.0] => 1 (expected 1)\n",
      "[1.0, 299.3, 308.6, 1384.0, 53.6, 218.0] => 1 (expected 1)\n",
      "[2.0, 300.0, 311.4, 1692.0, 29.0, 216.0] => 0 (expected 1)\n",
      "[2.0, 298.4, 308.7, 1421.0, 60.7, 119.0] => 0 (expected 1)\n",
      "[1.0, 302.6, 312.1, 1288.0, 68.5, 0.0] => 1 (expected 1)\n",
      "[1.0, 303.7, 312.7, 1359.0, 56.8, 194.0] => 1 (expected 1)\n",
      "[2.0, 298.2, 308.5, 2678.0, 10.7, 86.0] => 1 (expected 1)\n"
     ]
    }
   ],
   "source": [
    "for i in range(2000):\n",
    "    if(y_predict_test[i] or y_test[i]):\n",
    "        print('%s => %d (expected %d)' % (X_test[i].tolist(), y_predict_test[i], y_test[i]))"
   ]
  },
  {
   "cell_type": "code",
   "execution_count": 55,
   "metadata": {},
   "outputs": [
    {
     "data": {
      "image/png": "[encoded data removed]",
      "text/plain": [
       "<Figure size 432x288 with 2 Axes>"
      ]
     },
     "metadata": {
      "needs_background": "light"
     },
     "output_type": "display_data"
    },
    {
     "name": "stdout",
     "output_type": "stream",
     "text": [
      "              precision    recall  f1-score   support\n",
      "\n",
      "           0       0.99      0.99      0.99      1932\n",
      "           1       0.82      0.79      0.81        68\n",
      "\n",
      "    accuracy                           0.99      2000\n",
      "   macro avg       0.91      0.89      0.90      2000\n",
      "weighted avg       0.99      0.99      0.99      2000\n",
      "\n"
     ]
    }
   ],
   "source": [
    "cm = confusion_matrix(y_test, y_predict_test)\n",
    "sns.heatmap(cm, annot=True, fmt='d')\n",
    "plt.show()\n",
    "print(classification_report(y_test,y_predict_test))"
   ]
  }
 ],
 "metadata": {
  "kernelspec": {
   "display_name": "Python 3",
   "language": "python",
   "name": "python3"
  },
  "language_info": {
   "codemirror_mode": {
    "name": "ipython",
    "version": 3
   },
   "file_extension": ".py",
   "mimetype": "text/x-python",
   "name": "python",
   "nbconvert_exporter": "python",
   "pygments_lexer": "ipython3",
   "version": "3.8.8"
  }
 },
 "nbformat": 4,
 "nbformat_minor": 4
}
